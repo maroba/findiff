{
 "cells": [
  {
   "cell_type": "markdown",
   "id": "0d8635de-c213-4cf6-8e50-9ea077542fd2",
   "metadata": {},
   "source": [
    "# Periodic Boundary Conditions\n",
    "\n",
    "Sometimes the domain on which you sample your data is\n",
    "periodic, or at least some dimensions are periodic. This can also\n",
    "be taken account in *findiff*.\n"
   ]
  },
  {
   "cell_type": "markdown",
   "id": "5d88a82e-40a3-452c-af4e-127a2bacdebf",
   "metadata": {},
   "source": [
    "## Differential Operators\n",
    "\n",
    "Suppose we want to differentiate the 1D-arrays `f` and the grid is periodic along the 0-axis.\n"
   ]
  },
  {
   "cell_type": "code",
   "execution_count": 4,
   "id": "1fd81cbf-29f0-4ff0-b594-47913ecb64f9",
   "metadata": {},
   "outputs": [],
   "source": [
    "import numpy as np\n",
    "from findiff import Diff\n",
    "\n",
    "# note the \"endpoint\" argument:\n",
    "x = np.linspace(0, 2*np.pi, 100, endpoint=False)\n",
    "dx = x[1] - x[0]\n",
    "f = np.sin(x) # as an example\n",
    "\n",
    "# define the derivative with periodic boundary condition:\n",
    "d_dx = Diff(0, dx, periodic=True)\n",
    "\n",
    "# apply it:\n",
    "df_fx = d_dx(f)"
   ]
  },
  {
   "cell_type": "markdown",
   "id": "8aa53bf0-0106-4913-bbaa-968a36818975",
   "metadata": {},
   "source": [
    "Alternatively, you can specify the grid after defining the derivative. That is\n",
    "sometimes useful when you define a complicated combination of derivative operators, so\n",
    "can can set the grid once for the combined operator instead of for each part individually."
   ]
  },
  {
   "cell_type": "code",
   "execution_count": 8,
   "id": "2b46a14f-81fb-4e06-8435-cb8339251666",
   "metadata": {},
   "outputs": [],
   "source": [
    "d_dx = Diff(0)\n",
    "d_dx.set_grid({0: {\"h\": dx, \"periodic\": True}})\n",
    "\n",
    "df_fx = d_dx(f)"
   ]
  },
  {
   "cell_type": "markdown",
   "id": "4a3e68b1-0e4b-42cf-a89f-85d58c61195d",
   "metadata": {},
   "source": [
    "Note the syntax of `set_grid`. It accepts a dictionary defining for each required axis (0 in this case)\n",
    "the spacing \"h\" and a flag \"periodic\". If you specify an axis with non-periodic boundary conditions,\n",
    "you can simply pass a number instead of a dictionary. Of course, you can also mix periodic with non-periodic\n",
    "boundary conditions. For example, if you have a 2D grid with periodic boundary conditions in, say,\n",
    "the x-direction only, then you way write"
   ]
  },
  {
   "cell_type": "code",
   "execution_count": 18,
   "id": "684ae97e-572f-4614-9ea7-5b49f6a36e3f",
   "metadata": {},
   "outputs": [
    {
     "data": {
      "text/plain": [
       "np.float64(1.981609665246964e-08)"
      ]
     },
     "execution_count": 18,
     "metadata": {},
     "output_type": "execute_result"
    }
   ],
   "source": [
    "x = np.linspace(0, 2 * np.pi, 100, endpoint=False)\n",
    "y = np.linspace(0, 1, 100)\n",
    "\n",
    "X, Y = np.meshgrid(x, y, indexing=\"ij\")\n",
    "f = np.sin(X) ** 2 * np.sin(Y) ** 2 # as an example\n",
    "\n",
    "dx = x[1] - x[0]\n",
    "dy = y[1] - y[0]\n",
    "\n",
    "d_dx = Diff(0, acc=6)\n",
    "\n",
    "d_dx.set_grid({0: {\"h\": dx, \"periodic\": True}, 1: dy})\n",
    "\n",
    "actual = d_dx(f)\n",
    "\n",
    "expected = 2 * np.sin(X) * np.cos(X) * np.sin(Y)**2\n",
    "\n",
    "np.max(abs(actual - expected))"
   ]
  },
  {
   "cell_type": "markdown",
   "id": "0a18047b-3b0b-4b10-a528-db291a6a0728",
   "metadata": {},
   "source": [
    "## Ordinary Differential Equations"
   ]
  },
  {
   "cell_type": "markdown",
   "id": "5d7cfc84-f124-4acc-aa5c-2ed45998c78e",
   "metadata": {},
   "source": [
    "Let's solve an ordinary differential equation with periodic boundary conditions.\n",
    "To be specific,\n",
    "\n",
    "$$\n",
    "\\left(\\frac{d^2}{dx^2} + 1\\right)f(x) = 0\n",
    "$$\n",
    "\n",
    "and we import the periodic boundary condition $f(0) = f(2\\pi)$. Since we have a second order ODE, we need\n",
    "one more boundary/initial condition, let's say $f(0) = 1$.\n",
    "\n",
    "Using *findiff* we can solve it like that:"
   ]
  },
  {
   "cell_type": "code",
   "execution_count": 40,
   "id": "1988ae62-7f90-4727-8621-1b3ccaf41c26",
   "metadata": {},
   "outputs": [
    {
     "data": {
      "text/plain": [
       "np.float64(1.6739723740499812e-07)"
      ]
     },
     "execution_count": 40,
     "metadata": {},
     "output_type": "execute_result"
    }
   ],
   "source": [
    "import numpy as np\n",
    "from findiff import Diff, BoundaryConditions, PDE\n",
    "\n",
    "# define the differential operator:\n",
    "D = Diff(0) ** 2 + 1\n",
    "\n",
    "# define the periodic grid\n",
    "shape = 100,\n",
    "x = np.linspace(0, 2*np.pi, shape[0], endpoint=False)\n",
    "dx = x[1] - x[0]\n",
    "\n",
    "D.set_grid({0: {\"h\": dx, \"periodic\": True}})\n",
    "D.set_accuracy(4)\n",
    "\n",
    "bc = BoundaryConditions(shape)\n",
    "\n",
    "bc[0] = 1\n",
    "\n",
    "ode = PDE(D, np.zeros_like(x), bc)\n",
    "actual = ode.solve()\n",
    "\n",
    "expected = np.cos(x)\n",
    "\n",
    "np.max(abs(actual - expected))"
   ]
  }
 ],
 "metadata": {
  "kernelspec": {
   "display_name": "Python (findiff-venv2)",
   "language": "python",
   "name": "venv2"
  },
  "language_info": {
   "codemirror_mode": {
    "name": "ipython",
    "version": 3
   },
   "file_extension": ".py",
   "mimetype": "text/x-python",
   "name": "python",
   "nbconvert_exporter": "python",
   "pygments_lexer": "ipython3",
   "version": "3.12.0"
  }
 },
 "nbformat": 4,
 "nbformat_minor": 5
}
