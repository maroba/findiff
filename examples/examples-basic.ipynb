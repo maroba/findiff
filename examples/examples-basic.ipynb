{
 "cells": [
  {
   "cell_type": "markdown",
   "metadata": {},
   "source": [
    "# Basic Examples of _findiff_\n",
    "\n",
    "_findiff_ works in any dimension. But for the sake of demonstration, let's concentrate on the cases 1D and 3D. We are using uniform, i.e. equidistant, grids here. The non-uniform case will be shown in another notebook."
   ]
  },
  {
   "cell_type": "markdown",
   "metadata": {},
   "source": [
    "## Preliminaries\n",
    "\n",
    "Our imports:"
   ]
  },
  {
   "cell_type": "code",
   "metadata": {
    "collapsed": false,
    "jupyter": {
     "is_executing": true
    }
   },
   "source": [
    "import numpy as np\n",
    "from findiff import Diff"
   ],
   "outputs": [],
   "execution_count": null
  },
  {
   "cell_type": "markdown",
   "metadata": {},
   "source": [
    "## Simple 1D Cases\n",
    "\n",
    "Suppose we want to differentiate two 1D-arrays `f` and `g`, which are filled with values from a function\n",
    "\n",
    "$$\n",
    "f(x) = \\sin(x) \\quad \\mbox{and}\\quad g(x) = \\cos(x)\n",
    "$$\n",
    "\n",
    "and we want to take the 2nd derivative. This is easy done analytically:\n",
    "\n",
    "$$\n",
    "\\frac{d^2f}{dx^2} = -\\sin(x) \\quad \\mbox{and}\\quad \\frac{d^2g}{dx^2} = -\\cos(x)\n",
    "$$\n",
    "\n",
    "Let's do this numerically with _findiff_. First we set up the grid and the arrays:"
   ]
  },
  {
   "cell_type": "code",
   "execution_count": 2,
   "metadata": {
    "collapsed": true
   },
   "outputs": [],
   "source": [
    "x = np.linspace(0, 10, 100)\n",
    "dx = x[1] - x[0]\n",
    "f = np.sin(x)\n",
    "g = np.cos(x)"
   ]
  },
  {
   "cell_type": "markdown",
   "metadata": {},
   "source": [
    "Then we construct the derivative object, which represents the differential operator $\\frac{d^2}{dx^2}$:"
   ]
  },
  {
   "cell_type": "code",
   "execution_count": 3,
   "metadata": {
    "collapsed": true
   },
   "outputs": [],
   "source": "d2_dx2 = Diff(0, dx=dx, acc=2)"
  },
  {
   "cell_type": "markdown",
   "metadata": {},
   "source": [
    "The first parameter is the axis along which to take the derivative. Since we want to apply it to the one and only axis of the 1D array, this is a 0. The second parameter is the grid spacing, the third parameter the derivative order you want, in our case 2. If you want a first derivative, you can skip the third argument as it defaults to 1.\n",
    "\n",
    "Then we apply the operator to f and g, respectively:"
   ]
  },
  {
   "cell_type": "code",
   "execution_count": 4,
   "metadata": {
    "collapsed": true
   },
   "outputs": [],
   "source": [
    "result_f = d2_dx2(f)\n",
    "result_g = d2_dx2(g)"
   ]
  },
  {
   "cell_type": "markdown",
   "metadata": {},
   "source": [
    "That's it! The arrays `result_f`and `result_g` have the same shape as the arrays `f` and `g` and contain the values of the second derivatives."
   ]
  },
  {
   "cell_type": "markdown",
   "metadata": {},
   "source": [
    "#### Finite Difference Coefficients\n",
    "\n",
    "By default the `FinDiff` class uses second order accuracy. For the second derivative, it uses the following finite difference coefficients:"
   ]
  },
  {
   "cell_type": "code",
   "execution_count": 5,
   "metadata": {
    "collapsed": false
   },
   "outputs": [
    {
     "data": {
      "text/plain": [
       "{'backward': {'coefficients': array([-1.,  4., -5.,  2.]),\n",
       "  'offsets': array([-3, -2, -1,  0])},\n",
       " 'center': {'coefficients': array([ 1., -2.,  1.]),\n",
       "  'offsets': array([-1,  0,  1])},\n",
       " 'forward': {'coefficients': array([ 2., -5.,  4., -1.]),\n",
       "  'offsets': array([0, 1, 2, 3])}}"
      ]
     },
     "execution_count": 5,
     "metadata": {},
     "output_type": "execute_result"
    }
   ],
   "source": [
    "coefficients(deriv=2, acc=2)"
   ]
  },
  {
   "cell_type": "markdown",
   "metadata": {},
   "source": [
    "But `FinDiff` can handle any accuracy order. For instance, have you ever wondered, what the 10th order accurate coefficients look like? Here they are:"
   ]
  },
  {
   "cell_type": "code",
   "execution_count": 6,
   "metadata": {
    "collapsed": false
   },
   "outputs": [
    {
     "data": {
      "text/plain": [
       "{'backward': {'coefficients': array([  -0.53253968,    6.42373016,  -35.55158728,  119.41369042,\n",
       "         -271.26190464,  439.39444427, -521.11333314,  457.02976176,\n",
       "         -295.51984119,  138.59325394,  -44.43730158,    7.56162698]),\n",
       "  'offsets': array([-11, -10,  -9,  -8,  -7,  -6,  -5,  -4,  -3,  -2,  -1,   0])},\n",
       " 'center': {'coefficients': array([ 3.17460317e-04, -4.96031746e-03,  3.96825397e-02, -2.38095238e-01,\n",
       "          1.66666667e+00, -2.92722222e+00,  1.66666667e+00, -2.38095238e-01,\n",
       "          3.96825397e-02, -4.96031746e-03,  3.17460317e-04]),\n",
       "  'offsets': array([-5, -4, -3, -2, -1,  0,  1,  2,  3,  4,  5])},\n",
       " 'forward': {'coefficients': array([   7.56162876,  -44.43731776,  138.59331976, -295.52000468,\n",
       "          457.03003946, -521.1136706 ,  439.39474213, -271.26209495,\n",
       "          119.41377646,  -35.55161345,    6.42373497,   -0.53254009]),\n",
       "  'offsets': array([ 0,  1,  2,  3,  4,  5,  6,  7,  8,  9, 10, 11])}}"
      ]
     },
     "execution_count": 6,
     "metadata": {},
     "output_type": "execute_result"
    }
   ],
   "source": [
    "coefficients(deriv=2, acc=10)"
   ]
  },
  {
   "cell_type": "markdown",
   "metadata": {},
   "source": [
    "#### Accuracy order\n",
    "\n",
    "If you want to use for example 10th order accuracy, just tell the `FinDiff` constructor to use it:"
   ]
  },
  {
   "cell_type": "code",
   "execution_count": 7,
   "metadata": {
    "collapsed": false
   },
   "outputs": [],
   "source": [
    "d2_dx2 = FinDiff(0, dx, 2, acc=10)\n",
    "result = d2_dx2(f)"
   ]
  },
  {
   "cell_type": "markdown",
   "metadata": {},
   "source": [
    "## Simple 3D Cases"
   ]
  },
  {
   "cell_type": "markdown",
   "metadata": {},
   "source": [
    "Now let's differentiate a 3D-array `f` representing the function\n",
    "\n",
    "$$\n",
    "f(x, y, z) = \\sin(x) \\cos(y) \\sin(z) \n",
    "$$\n"
   ]
  },
  {
   "cell_type": "code",
   "execution_count": 8,
   "metadata": {
    "collapsed": true
   },
   "outputs": [],
   "source": [
    "x, y, z = [np.linspace(0, 10, 100)]*3\n",
    "dx, dy, dz = x[1] - x[0], y[1] - y[0], z[1] - z[0]\n",
    "X, Y, Z = np.meshgrid(x, y, z, indexing='ij')\n",
    "f = np.sin(X) * np.cos(Y) * np.sin(Z)"
   ]
  },
  {
   "cell_type": "markdown",
   "metadata": {},
   "source": [
    "The partial derivatives $\\frac{\\partial f}{\\partial x}$ or $\\frac{\\partial f}{\\partial z}$ are given by"
   ]
  },
  {
   "cell_type": "code",
   "execution_count": 9,
   "metadata": {
    "collapsed": true
   },
   "outputs": [],
   "source": [
    "d_dx = FinDiff(0, dx)\n",
    "d_dz = FinDiff(2, dz)"
   ]
  },
  {
   "cell_type": "markdown",
   "metadata": {},
   "source": [
    "The x-axis is the 0th axis, y, the first, z the 2nd, etc. The third mixed partial derivative $\\frac{\\partial^3 f}{\\partial x^2 \\partial y}$ is specified by two tuples as arguments, one for each partial derivative:"
   ]
  },
  {
   "cell_type": "code",
   "execution_count": 10,
   "metadata": {
    "collapsed": true
   },
   "outputs": [],
   "source": [
    "d3_dx2dy = FinDiff((0, dx, 2), (1, dy))\n",
    "result = d3_dx2dy(f)"
   ]
  },
  {
   "cell_type": "markdown",
   "metadata": {},
   "source": [
    "Of course, the accuracy order can be specified the same way as for 1D."
   ]
  },
  {
   "cell_type": "markdown",
   "metadata": {},
   "source": [
    "## General Linear Differential Operators\n",
    "\n",
    "`FinDiff` objects can bei added and easily multiplied by numbers. For example, to express\n",
    "\n",
    "$$\n",
    "\\frac{\\partial^2}{\\partial x^2} + 2\\frac{\\partial^2}{\\partial x \\partial y} + \\frac{\\partial^2}{\\partial y^2} =\n",
    "\\left(\\frac{\\partial}{\\partial x} + \\frac{\\partial}{\\partial y}\\right) \\left(\\frac{\\partial}{\\partial x} + \\frac{\\partial}{\\partial y}\\right)\n",
    "$$\n",
    "\n",
    "we can say"
   ]
  },
  {
   "cell_type": "code",
   "execution_count": 11,
   "metadata": {
    "collapsed": false
   },
   "outputs": [],
   "source": [
    "linear_op = FinDiff(0, dx, 2) + 2 * FinDiff((0, dx), (1, dy)) + FinDiff(1, dy, 2)"
   ]
  },
  {
   "cell_type": "markdown",
   "metadata": {},
   "source": [
    "#### Variable Coefficients\n",
    "\n",
    "If you want to multiply by variables instead of plain numbers, you have to encapsulate the variable in a `Coefficient` object. For example, \n",
    "\n",
    "$$\n",
    "x \\frac{\\partial}{\\partial x} + y^2 \\frac{\\partial}{\\partial y}\n",
    "$$\n",
    "\n",
    "is"
   ]
  },
  {
   "cell_type": "code",
   "execution_count": 12,
   "metadata": {
    "collapsed": true
   },
   "outputs": [],
   "source": [
    "linear_op = Coefficient(X) * FinDiff(0, dx) + Coefficient(Y**2) * FinDiff(1, dy)"
   ]
  },
  {
   "cell_type": "markdown",
   "metadata": {},
   "source": [
    "Applying those general operators works the same way as for the simple derivatives:"
   ]
  },
  {
   "cell_type": "code",
   "execution_count": 13,
   "metadata": {
    "collapsed": true
   },
   "outputs": [],
   "source": [
    "result = linear_op(f)"
   ]
  }
 ],
 "metadata": {
  "kernelspec": {
   "display_name": "Python 3",
   "language": "python",
   "name": "python3"
  },
  "language_info": {
   "codemirror_mode": {
    "name": "ipython",
    "version": 3
   },
   "file_extension": ".py",
   "mimetype": "text/x-python",
   "name": "python",
   "nbconvert_exporter": "python",
   "pygments_lexer": "ipython3",
   "version": "3.6.4"
  }
 },
 "nbformat": 4,
 "nbformat_minor": 2
}
