{
 "cells": [
  {
   "cell_type": "markdown",
   "id": "ed0c39b2",
   "metadata": {},
   "source": [
    "# Symbolic Schemes\n",
    "\n",
    "As of version 0.10, *findiff* can also provide a symbolic representation\n",
    "of finite difference schemes suitable for using in conjunction with *sympy*.\n",
    "The main use case is to facilitate deriving your own iteration schemes.\n",
    "\n",
    "As an example, we will derive the simple iteration scheme for a Jacobi\n",
    "solver for the 2-dimensional Poisson equation\n",
    "\n",
    "$$\n",
    "\\nabla^2 u = \\rho\n",
    "$$"
   ]
  },
  {
   "cell_type": "markdown",
   "id": "df6f807b",
   "metadata": {},
   "source": [
    "First of all, make some imports from *findiff* and *sympy*, and create a symbolic mesh:"
   ]
  },
  {
   "cell_type": "code",
   "execution_count": 1,
   "id": "27a96af3",
   "metadata": {},
   "outputs": [],
   "source": [
    "from findiff import SymbolicMesh, SymbolicDiff\n",
    "from sympy import symbols, Eq, solve\n",
    "\n",
    "mesh = SymbolicMesh(\"x, y\")\n",
    "dx, dy = mesh.spacing\n",
    "u = mesh.create_symbol(\"u\")\n",
    "rho = mesh.create_symbol(r\"\\rho\")\n",
    "m, n = symbols(\"m, n\")"
   ]
  },
  {
   "cell_type": "markdown",
   "id": "460d60f6",
   "metadata": {},
   "source": [
    "Meshed symbols are symbols that can carry any number of symbolic indices:"
   ]
  },
  {
   "cell_type": "code",
   "execution_count": 2,
   "id": "326b6c29",
   "metadata": {},
   "outputs": [
    {
     "data": {
      "text/latex": [
       "$\\displaystyle {u}_{m,n}$"
      ],
      "text/plain": [
       "u[m, n]"
      ]
     },
     "execution_count": 2,
     "metadata": {},
     "output_type": "execute_result"
    }
   ],
   "source": [
    "u[m, n]"
   ]
  },
  {
   "cell_type": "code",
   "execution_count": 3,
   "id": "1c815da5",
   "metadata": {},
   "outputs": [
    {
     "data": {
      "text/latex": [
       "$\\displaystyle {\\rho}_{m,n}$"
      ],
      "text/plain": [
       "\\rho[m, n]"
      ]
     },
     "execution_count": 3,
     "metadata": {},
     "output_type": "execute_result"
    }
   ],
   "source": [
    "rho[m, n]"
   ]
  },
  {
   "cell_type": "markdown",
   "id": "9e76df3d",
   "metadata": {},
   "source": [
    "Next, create symbolic representations of the differential operators in finite difference approximation. To execute them on the mesh functions, simply call them:"
   ]
  },
  {
   "cell_type": "code",
   "execution_count": 4,
   "id": "058b5476",
   "metadata": {},
   "outputs": [
    {
     "data": {
      "text/latex": [
       "$\\displaystyle \\frac{{u}_{m,n + 1} + {u}_{m,n - 1} - 2 {u}_{m,n}}{\\Delta y^{2}} + \\frac{{u}_{m + 1,n} + {u}_{m - 1,n} - 2 {u}_{m,n}}{\\Delta x^{2}}$"
      ],
      "text/plain": [
       "(u[m, n + 1] + u[m, n - 1] - 2*u[m, n])/\\Delta y**2 + (u[m + 1, n] + u[m - 1, n] - 2*u[m, n])/\\Delta x**2"
      ]
     },
     "execution_count": 4,
     "metadata": {},
     "output_type": "execute_result"
    }
   ],
   "source": [
    "d2_dx2, d2_dy2 = [SymbolicDiff(mesh, axis=k, degree=2) for k in range(2)]\n",
    "\n",
    "(\n",
    "    d2_dx2(u, at=(m, n), offsets=(-1, 0, 1)) + \n",
    "    d2_dy2(u, at=(m, n), offsets=(-1, 0, 1))\n",
    ")"
   ]
  },
  {
   "cell_type": "code",
   "execution_count": 5,
   "id": "20e96497",
   "metadata": {},
   "outputs": [
    {
     "name": "stdout",
     "output_type": "stream",
     "text": [
      "\\frac{{u}_{m,n + 1} + {u}_{m,n - 1} - 2 {u}_{m,n}}{\\Delta y^{2}} + \\frac{{u}_{m + 1,n} + {u}_{m - 1,n} - 2 {u}_{m,n}}{\\Delta x^{2}}\n"
     ]
    }
   ],
   "source": [
    "from sympy import latex\n",
    "print(latex(_))"
   ]
  },
  {
   "cell_type": "markdown",
   "id": "2a8fc255",
   "metadata": {},
   "source": [
    "The parameter `at` is the index tuple of the mesh point where the derivative is to be evaluated. The `offsets` parameter specifies which neighboring points you want your approximation to use. Using `-1, 0, 1` gives the usual 2nd-order accurate, symmetric approximation for the second derivate. This works for all grid points except at the boundary, of course. That's not problem for iteration schemes if you have Dirichlet boundary conditions, which we will assume here. Otherwise, you would have to create separate representations for the boundary using offsets like `[0, 1, 2, 3]`.\n",
    "\n",
    "Anyways, let's continue our derivation:"
   ]
  },
  {
   "cell_type": "code",
   "execution_count": 6,
   "id": "ae59c6f4",
   "metadata": {},
   "outputs": [
    {
     "data": {
      "text/latex": [
       "$\\displaystyle \\frac{{u}_{m,n + 1} + {u}_{m,n - 1} - 2 {u}_{m,n}}{\\Delta y^{2}} + \\frac{{u}_{m + 1,n} + {u}_{m - 1,n} - 2 {u}_{m,n}}{\\Delta x^{2}} = {\\rho}_{m,n}$"
      ],
      "text/plain": [
       "Eq((u[m, n + 1] + u[m, n - 1] - 2*u[m, n])/\\Delta y**2 + (u[m + 1, n] + u[m - 1, n] - 2*u[m, n])/\\Delta x**2, \\rho[m, n])"
      ]
     },
     "execution_count": 6,
     "metadata": {},
     "output_type": "execute_result"
    }
   ],
   "source": [
    "Eq(_, rho[m,n])"
   ]
  },
  {
   "cell_type": "markdown",
   "id": "12376fc7",
   "metadata": {},
   "source": [
    "Solve it for $u_{m,n}$:"
   ]
  },
  {
   "cell_type": "code",
   "execution_count": 7,
   "id": "034cc782",
   "metadata": {},
   "outputs": [
    {
     "data": {
      "text/plain": [
       "[(-\\Delta x**2*\\Delta y**2*\\rho[m, n] + \\Delta x**2*u[m, n + 1] + \\Delta x**2*u[m, n - 1] + \\Delta y**2*u[m + 1, n] + \\Delta y**2*u[m - 1, n])/(2*(\\Delta x**2 + \\Delta y**2))]"
      ]
     },
     "execution_count": 7,
     "metadata": {},
     "output_type": "execute_result"
    }
   ],
   "source": [
    "solve(_, u[m,n])"
   ]
  },
  {
   "cell_type": "code",
   "execution_count": 8,
   "id": "237c904a",
   "metadata": {},
   "outputs": [
    {
     "data": {
      "text/latex": [
       "$\\displaystyle \\frac{- \\Delta x^{2} \\Delta y^{2} {\\rho}_{m,n} + \\Delta x^{2} {u}_{m,n + 1} + \\Delta x^{2} {u}_{m,n - 1} + \\Delta y^{2} {u}_{m + 1,n} + \\Delta y^{2} {u}_{m - 1,n}}{2 \\left(\\Delta x^{2} + \\Delta y^{2}\\right)}$"
      ],
      "text/plain": [
       "(-\\Delta x**2*\\Delta y**2*\\rho[m, n] + \\Delta x**2*u[m, n + 1] + \\Delta x**2*u[m, n - 1] + \\Delta y**2*u[m + 1, n] + \\Delta y**2*u[m - 1, n])/(2*(\\Delta x**2 + \\Delta y**2))"
      ]
     },
     "execution_count": 8,
     "metadata": {},
     "output_type": "execute_result"
    }
   ],
   "source": [
    "_[0]"
   ]
  },
  {
   "cell_type": "markdown",
   "id": "8a2a282d",
   "metadata": {},
   "source": [
    "Let's assume that we have the same grid spacing along both axes:"
   ]
  },
  {
   "cell_type": "code",
   "execution_count": 9,
   "id": "4e99bc31",
   "metadata": {},
   "outputs": [
    {
     "data": {
      "text/latex": [
       "$\\displaystyle \\frac{- h^{4} {\\rho}_{m,n} + h^{2} {u}_{m + 1,n} + h^{2} {u}_{m - 1,n} + h^{2} {u}_{m,n + 1} + h^{2} {u}_{m,n - 1}}{4 h^{2}}$"
      ],
      "text/plain": [
       "(-h**4*\\rho[m, n] + h**2*u[m + 1, n] + h**2*u[m - 1, n] + h**2*u[m, n + 1] + h**2*u[m, n - 1])/(4*h**2)"
      ]
     },
     "execution_count": 9,
     "metadata": {},
     "output_type": "execute_result"
    }
   ],
   "source": [
    "h = symbols(\"h\")\n",
    "_.subs({dx: h, dy: h})"
   ]
  },
  {
   "cell_type": "code",
   "execution_count": 10,
   "id": "708ac35c",
   "metadata": {},
   "outputs": [
    {
     "data": {
      "text/latex": [
       "$\\displaystyle - \\frac{h^{2} {\\rho}_{m,n}}{4} + \\frac{{u}_{m + 1,n}}{4} + \\frac{{u}_{m - 1,n}}{4} + \\frac{{u}_{m,n + 1}}{4} + \\frac{{u}_{m,n - 1}}{4}$"
      ],
      "text/plain": [
       "-h**2*\\rho[m, n]/4 + u[m + 1, n]/4 + u[m - 1, n]/4 + u[m, n + 1]/4 + u[m, n - 1]/4"
      ]
     },
     "execution_count": 10,
     "metadata": {},
     "output_type": "execute_result"
    }
   ],
   "source": [
    "_.simplify()"
   ]
  },
  {
   "cell_type": "markdown",
   "id": "e2c7890a",
   "metadata": {},
   "source": [
    "So we finally have our Jacobi iteration scheme:"
   ]
  },
  {
   "cell_type": "code",
   "execution_count": 11,
   "id": "8fc373e3",
   "metadata": {},
   "outputs": [
    {
     "data": {
      "text/latex": [
       "$\\displaystyle {u}_{m,n} = - \\frac{h^{2} {\\rho}_{m,n}}{4} + \\frac{{u}_{m + 1,n}}{4} + \\frac{{u}_{m - 1,n}}{4} + \\frac{{u}_{m,n + 1}}{4} + \\frac{{u}_{m,n - 1}}{4}$"
      ],
      "text/plain": [
       "Eq(u[m, n], -h**2*\\rho[m, n]/4 + u[m + 1, n]/4 + u[m - 1, n]/4 + u[m, n + 1]/4 + u[m, n - 1]/4)"
      ]
     },
     "execution_count": 11,
     "metadata": {},
     "output_type": "execute_result"
    }
   ],
   "source": [
    "Eq(u[m, n], _)"
   ]
  }
 ],
 "metadata": {
  "kernelspec": {
   "display_name": ".venv",
   "language": "python",
   "name": "python3"
  },
  "language_info": {
   "codemirror_mode": {
    "name": "ipython",
    "version": 3
   },
   "file_extension": ".py",
   "mimetype": "text/x-python",
   "name": "python",
   "nbconvert_exporter": "python",
   "pygments_lexer": "ipython3",
   "version": "3.13.1"
  },
  "varInspector": {
   "cols": {
    "lenName": 16,
    "lenType": 16,
    "lenVar": 40
   },
   "kernels_config": {
    "python": {
     "delete_cmd_postfix": "",
     "delete_cmd_prefix": "del ",
     "library": "var_list.py",
     "varRefreshCmd": "print(var_dic_list())"
    },
    "r": {
     "delete_cmd_postfix": ") ",
     "delete_cmd_prefix": "rm(",
     "library": "var_list.r",
     "varRefreshCmd": "cat(var_dic_list()) "
    }
   },
   "types_to_exclude": [
    "module",
    "function",
    "builtin_function_or_method",
    "instance",
    "_Feature"
   ],
   "window_display": false
  }
 },
 "nbformat": 4,
 "nbformat_minor": 5
}
